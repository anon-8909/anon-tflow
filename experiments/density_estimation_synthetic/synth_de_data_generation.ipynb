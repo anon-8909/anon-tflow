{
  "cells": [
    {
      "cell_type": "code",
      "execution_count": 4,
      "metadata": {
        "colab": {
          "base_uri": "https://localhost:8080/"
        },
        "id": "jh48OyKQXJL4",
        "outputId": "64722bd8-af50-4ca3-e02a-aa6ca33b2e19"
      },
      "outputs": [
        {
          "name": "stdout",
          "output_type": "stream",
          "text": [
            "==================== v=2.0, dim=6 ====================\n"
          ]
        }
      ],
      "source": [
        "### build datasets\n",
        "from tailnflows.targets.heavy_tailed_nuisance import generate_data\n",
        "from tailnflows.utils import get_project_root\n",
        "import torch\n",
        "from pathlib import Path\n",
        "\n",
        "target_dims = [2, 5, 10, 50]\n",
        "nuisance_dfs = [0.5, 1., 2., 30.]\n",
        "\n",
        "target_dims = [6]\n",
        "nuisance_dfs = [2.]\n",
        "for nuisance_df in nuisance_dfs:\n",
        "  for dim in target_dims:\n",
        "    # for nuisance_df in nuisance_dfs:\n",
        "      print('=' * 20, f'v={nuisance_df}, dim={dim}', '=' * 20)\n",
        "      for repeat in range(10):\n",
        "        # generate data\n",
        "        n = 5000\n",
        "        trn_ix, val_ix, tst_ix = torch.split(torch.arange(n), [int(n * 0.4), int(n * 0.2), n - int(n * 0.4) - int(n * 0.2)])\n",
        "        x = generate_data(n, dim, heavy_df=nuisance_df).to(torch.float64)\n",
        "        file_name = f'{get_project_root()}/data/synthetic_shift/dim-{dim}_v-{str(nuisance_df).replace(\".\",\",\")}_repeat-{repeat}.p'\n",
        "        dataset = {\n",
        "            'data': x,\n",
        "            'split': {'trn': trn_ix, 'val': val_ix, 'tst': tst_ix},\n",
        "            'metadata': {'nuisance_df': nuisance_df, 'dim': dim},\n",
        "        }\n",
        "\n",
        "        data_file = Path(file_name)\n",
        "        if not data_file.is_file():\n",
        "            data_file.parent.mkdir(parents=True, exist_ok=True)\n",
        "\n",
        "        torch.save(dataset, file_name)"
      ]
    },
    {
      "cell_type": "code",
      "execution_count": 1,
      "metadata": {},
      "outputs": [],
      "source": [
        "from tailnflows.utils import load_torch_data\n",
        "\n",
        "dataset = load_torch_data('synthetic_shift/dim-2_v-0,5_repeat-0')"
      ]
    }
  ],
  "metadata": {
    "accelerator": "GPU",
    "colab": {
      "gpuType": "V100",
      "machine_shape": "hm",
      "provenance": []
    },
    "kernelspec": {
      "display_name": "Python 3",
      "name": "python3"
    },
    "language_info": {
      "codemirror_mode": {
        "name": "ipython",
        "version": 3
      },
      "file_extension": ".py",
      "mimetype": "text/x-python",
      "name": "python",
      "nbconvert_exporter": "python",
      "pygments_lexer": "ipython3",
      "version": "3.9.21"
    }
  },
  "nbformat": 4,
  "nbformat_minor": 0
}
