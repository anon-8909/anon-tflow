{
 "cells": [
  {
   "cell_type": "code",
   "execution_count": 2,
   "metadata": {},
   "outputs": [],
   "source": [
    "import torch\n",
    "import matplotlib.pyplot as plt\n",
    "import pandas as pd\n",
    "import numpy as np\n",
    "import pickle\n",
    "from tailnflows.utils import get_project_root, load_raw_data, load_experiment_output_data"
   ]
  },
  {
   "cell_type": "code",
   "execution_count": 3,
   "metadata": {},
   "outputs": [],
   "source": [
    "losses = load_experiment_output_data('2024-11-synth-de-comet')"
   ]
  },
  {
   "cell_type": "code",
   "execution_count": 4,
   "metadata": {},
   "outputs": [
    {
     "data": {
      "text/plain": [
       "{'comet': [{'dim': 50,\n",
       "   'repeat': 0,\n",
       "   'seed': 2,\n",
       "   'tst_ll': 72.99959564208984,\n",
       "   'df': 30.0},\n",
       "  {'dim': 50, 'repeat': 0, 'seed': 2, 'tst_ll': 127.78667449951172, 'df': 1.0},\n",
       "  {'dim': 50, 'repeat': 0, 'seed': 2, 'tst_ll': 98.44000244140625, 'df': 2.0},\n",
       "  {'dim': 50, 'repeat': 0, 'seed': 2, 'tst_ll': 186.2239990234375, 'df': 0.5},\n",
       "  {'dim': 50, 'repeat': 1, 'seed': 2, 'tst_ll': 187.509521484375, 'df': 0.5},\n",
       "  {'dim': 50, 'repeat': 1, 'seed': 2, 'tst_ll': 73.2071533203125, 'df': 30.0},\n",
       "  {'dim': 50, 'repeat': 1, 'seed': 2, 'tst_ll': 127.3965835571289, 'df': 1.0},\n",
       "  {'dim': 50, 'repeat': 1, 'seed': 2, 'tst_ll': 99.01866149902344, 'df': 2.0},\n",
       "  {'dim': 50, 'repeat': 3, 'seed': 2, 'tst_ll': inf, 'df': 0.5},\n",
       "  {'dim': 50, 'repeat': 2, 'seed': 2, 'tst_ll': 127.4306640625, 'df': 1.0},\n",
       "  {'dim': 50, 'repeat': 2, 'seed': 2, 'tst_ll': 187.47293090820312, 'df': 0.5},\n",
       "  {'dim': 50, 'repeat': 2, 'seed': 2, 'tst_ll': 73.27941131591797, 'df': 30.0},\n",
       "  {'dim': 50, 'repeat': 2, 'seed': 2, 'tst_ll': 98.5677719116211, 'df': 2.0},\n",
       "  {'dim': 50, 'repeat': 3, 'seed': 2, 'tst_ll': 127.1305160522461, 'df': 1.0},\n",
       "  {'dim': 50, 'repeat': 3, 'seed': 2, 'tst_ll': 98.97370147705078, 'df': 2.0},\n",
       "  {'dim': 50, 'repeat': 3, 'seed': 2, 'tst_ll': 73.54176330566406, 'df': 30.0},\n",
       "  {'dim': 50, 'repeat': 4, 'seed': 2, 'tst_ll': 126.84247589111328, 'df': 1.0},\n",
       "  {'dim': 50, 'repeat': 5, 'seed': 2, 'tst_ll': inf, 'df': 0.5},\n",
       "  {'dim': 50, 'repeat': 4, 'seed': 2, 'tst_ll': 98.78206634521484, 'df': 2.0},\n",
       "  {'dim': 50, 'repeat': 4, 'seed': 2, 'tst_ll': 188.243408203125, 'df': 0.5},\n",
       "  {'dim': 50, 'repeat': 4, 'seed': 2, 'tst_ll': 73.19600677490234, 'df': 30.0},\n",
       "  {'dim': 50, 'repeat': 6, 'seed': 2, 'tst_ll': inf, 'df': 0.5},\n",
       "  {'dim': 50, 'repeat': 5, 'seed': 2, 'tst_ll': 127.8282699584961, 'df': 1.0},\n",
       "  {'dim': 50, 'repeat': 5, 'seed': 2, 'tst_ll': 98.70380401611328, 'df': 2.0},\n",
       "  {'dim': 50, 'repeat': 5, 'seed': 2, 'tst_ll': 73.17105865478516, 'df': 30.0},\n",
       "  {'dim': 50, 'repeat': 6, 'seed': 2, 'tst_ll': 127.4666976928711, 'df': 1.0},\n",
       "  {'dim': 50, 'repeat': 6, 'seed': 2, 'tst_ll': 98.71851348876953, 'df': 2.0},\n",
       "  {'dim': 50, 'repeat': 6, 'seed': 2, 'tst_ll': 73.3073959350586, 'df': 30.0},\n",
       "  {'dim': 50, 'repeat': 7, 'seed': 2, 'tst_ll': 126.55282592773438, 'df': 1.0},\n",
       "  {'dim': 50, 'repeat': 7, 'seed': 2, 'tst_ll': 98.90660858154297, 'df': 2.0},\n",
       "  {'dim': 50, 'repeat': 7, 'seed': 2, 'tst_ll': 187.5916748046875, 'df': 0.5},\n",
       "  {'dim': 50, 'repeat': 7, 'seed': 2, 'tst_ll': 73.16431427001953, 'df': 30.0},\n",
       "  {'dim': 50, 'repeat': 8, 'seed': 2, 'tst_ll': 127.4187240600586, 'df': 1.0},\n",
       "  {'dim': 50, 'repeat': 8, 'seed': 2, 'tst_ll': 98.79609680175781, 'df': 2.0},\n",
       "  {'dim': 50, 'repeat': 8, 'seed': 2, 'tst_ll': 187.2977294921875, 'df': 0.5},\n",
       "  {'dim': 50, 'repeat': 8, 'seed': 2, 'tst_ll': 73.25715637207031, 'df': 30.0},\n",
       "  {'dim': 50, 'repeat': 9, 'seed': 2, 'tst_ll': 127.22930145263672, 'df': 1.0},\n",
       "  {'dim': 50, 'repeat': 9, 'seed': 2, 'tst_ll': 98.49324035644531, 'df': 2.0},\n",
       "  {'dim': 50, 'repeat': 9, 'seed': 2, 'tst_ll': 187.6062469482422, 'df': 0.5},\n",
       "  {'dim': 50,\n",
       "   'repeat': 9,\n",
       "   'seed': 2,\n",
       "   'tst_ll': 73.20382690429688,\n",
       "   'df': 30.0}]}"
      ]
     },
     "execution_count": 4,
     "metadata": {},
     "output_type": "execute_result"
    }
   ],
   "source": [
    "losses"
   ]
  },
  {
   "cell_type": "code",
   "execution_count": 21,
   "metadata": {},
   "outputs": [],
   "source": [
    "raw_data = load_experiment_output_data('2024-11-synth-de-preproc')\n",
    "rows = []\n",
    "for label, _data in raw_data.items():\n",
    "    # if label != 'comet':\n",
    "    for experiment_outcome in _data:\n",
    "        rows.append({\n",
    "            'model': label,\n",
    "            'tst_negll_per_dim': experiment_outcome['tst_ll'] / experiment_outcome['dim'],\n",
    "            'df': experiment_outcome['df'],\n",
    "            'dim': experiment_outcome['dim']\n",
    "        })\n",
    "\n",
    "\n",
    "# raw_data = load_raw_data('alt_shift_de_2023_12_01')\n",
    "# for test_ll, dim, df in raw_data['comet']:\n",
    "#     rows.append({\n",
    "#         'model': 'comet',\n",
    "#         'tst_negll_per_dim': test_ll / dim,\n",
    "#         'df': df,\n",
    "#         'dim': dim\n",
    "#     })"
   ]
  },
  {
   "cell_type": "code",
   "execution_count": 23,
   "metadata": {},
   "outputs": [
    {
     "data": {
      "text/plain": [
       "80"
      ]
     },
     "execution_count": 23,
     "metadata": {},
     "output_type": "execute_result"
    }
   ],
   "source": [
    "len(raw_data['normal_preprocess'])"
   ]
  },
  {
   "cell_type": "code",
   "execution_count": 16,
   "metadata": {},
   "outputs": [
    {
     "data": {
      "text/plain": [
       "dict_keys(['comet'])"
      ]
     },
     "execution_count": 16,
     "metadata": {},
     "output_type": "execute_result"
    }
   ],
   "source": [
    "raw_data.keys()"
   ]
  },
  {
   "cell_type": "code",
   "execution_count": 25,
   "metadata": {},
   "outputs": [],
   "source": [
    "results = pd.DataFrame(rows)\n",
    "# results = results[~results.isin([np.nan, np.inf, -np.inf]).any(1)]\n"
   ]
  },
  {
   "cell_type": "code",
   "execution_count": 26,
   "metadata": {},
   "outputs": [
    {
     "data": {
      "text/html": [
       "<div>\n",
       "<style scoped>\n",
       "    .dataframe tbody tr th:only-of-type {\n",
       "        vertical-align: middle;\n",
       "    }\n",
       "\n",
       "    .dataframe tbody tr th {\n",
       "        vertical-align: top;\n",
       "    }\n",
       "\n",
       "    .dataframe thead th {\n",
       "        text-align: right;\n",
       "    }\n",
       "</style>\n",
       "<table border=\"1\" class=\"dataframe\">\n",
       "  <thead>\n",
       "    <tr style=\"text-align: right;\">\n",
       "      <th></th>\n",
       "      <th></th>\n",
       "      <th></th>\n",
       "      <th>tst_negll_per_dim</th>\n",
       "    </tr>\n",
       "    <tr>\n",
       "      <th>model</th>\n",
       "      <th>df</th>\n",
       "      <th>dim</th>\n",
       "      <th></th>\n",
       "    </tr>\n",
       "  </thead>\n",
       "  <tbody>\n",
       "    <tr>\n",
       "      <th rowspan=\"8\" valign=\"top\">normal_preprocess</th>\n",
       "      <th rowspan=\"2\" valign=\"top\">0.5</th>\n",
       "      <th>5</th>\n",
       "      <td>10</td>\n",
       "    </tr>\n",
       "    <tr>\n",
       "      <th>50</th>\n",
       "      <td>10</td>\n",
       "    </tr>\n",
       "    <tr>\n",
       "      <th rowspan=\"2\" valign=\"top\">1.0</th>\n",
       "      <th>5</th>\n",
       "      <td>10</td>\n",
       "    </tr>\n",
       "    <tr>\n",
       "      <th>50</th>\n",
       "      <td>10</td>\n",
       "    </tr>\n",
       "    <tr>\n",
       "      <th rowspan=\"2\" valign=\"top\">2.0</th>\n",
       "      <th>5</th>\n",
       "      <td>10</td>\n",
       "    </tr>\n",
       "    <tr>\n",
       "      <th>50</th>\n",
       "      <td>10</td>\n",
       "    </tr>\n",
       "    <tr>\n",
       "      <th rowspan=\"2\" valign=\"top\">30.0</th>\n",
       "      <th>5</th>\n",
       "      <td>10</td>\n",
       "    </tr>\n",
       "    <tr>\n",
       "      <th>50</th>\n",
       "      <td>10</td>\n",
       "    </tr>\n",
       "  </tbody>\n",
       "</table>\n",
       "</div>"
      ],
      "text/plain": [
       "                            tst_negll_per_dim\n",
       "model             df   dim                   \n",
       "normal_preprocess 0.5  5                   10\n",
       "                       50                  10\n",
       "                  1.0  5                   10\n",
       "                       50                  10\n",
       "                  2.0  5                   10\n",
       "                       50                  10\n",
       "                  30.0 5                   10\n",
       "                       50                  10"
      ]
     },
     "execution_count": 26,
     "metadata": {},
     "output_type": "execute_result"
    }
   ],
   "source": [
    "results.groupby(['model', 'df', 'dim']).count()"
   ]
  },
  {
   "cell_type": "markdown",
   "metadata": {},
   "source": [
    "### Box Plots"
   ]
  },
  {
   "cell_type": "code",
   "execution_count": 27,
   "metadata": {},
   "outputs": [
    {
     "data": {
      "image/png": "[encoded data removed]",
      "text/plain": [
       "<Figure size 1600x1200 with 8 Axes>"
      ]
     },
     "metadata": {},
     "output_type": "display_data"
    }
   ],
   "source": [
    "import seaborn as sns\n",
    "\n",
    "wanted_dims = sorted(results['dim'].unique())\n",
    "wanted_dfs = sorted(results['df'].unique())\n",
    "wanted_models = results.model.unique()\n",
    "\n",
    "fig, axarr = plt.subplots(len(wanted_dims), len(wanted_dfs), figsize=(16, 12), tight_layout=True)\n",
    "\n",
    "if len(wanted_dims) == 1 and len(wanted_dfs) == 1:\n",
    "  axarr = [[axarr]]\n",
    "\n",
    "sns.set_style(\"whitegrid\")\n",
    "sns.set_context(\"paper\", font_scale=1.)\n",
    "\n",
    "for i, dim in enumerate(wanted_dims):\n",
    "  for j, nuisance_df in enumerate(wanted_dfs):\n",
    "    wanted_data = results[np.logical_and(\n",
    "        results['dim'] == dim,\n",
    "        results['df'] == nuisance_df,\n",
    "    )]\n",
    "\n",
    "    sns.boxplot(\n",
    "        data=wanted_data,\n",
    "        x='tst_negll_per_dim',\n",
    "        y='model',\n",
    "        order=wanted_models,\n",
    "        orient='h',\n",
    "        ax=axarr[i][j],\n",
    "    )\n",
    "\n",
    "    axarr[i][j].set_title(f'dim={dim} df={nuisance_df:.1f}')\n",
    "\n",
    "    # if j == 0:\n",
    "      # axarr[i][j].set_xlim([0., 2.3])"
   ]
  },
  {
   "cell_type": "code",
   "execution_count": 29,
   "metadata": {},
   "outputs": [
    {
     "data": {
      "text/html": [
       "<div>\n",
       "<style scoped>\n",
       "    .dataframe tbody tr th:only-of-type {\n",
       "        vertical-align: middle;\n",
       "    }\n",
       "\n",
       "    .dataframe tbody tr th {\n",
       "        vertical-align: top;\n",
       "    }\n",
       "\n",
       "    .dataframe thead th {\n",
       "        text-align: right;\n",
       "    }\n",
       "</style>\n",
       "<table border=\"1\" class=\"dataframe\">\n",
       "  <thead>\n",
       "    <tr style=\"text-align: right;\">\n",
       "      <th></th>\n",
       "      <th>model</th>\n",
       "      <th>df</th>\n",
       "      <th>dim</th>\n",
       "      <th>tst_negll</th>\n",
       "      <th>sem</th>\n",
       "    </tr>\n",
       "  </thead>\n",
       "  <tbody>\n",
       "    <tr>\n",
       "      <th>0</th>\n",
       "      <td>normal_preprocess</td>\n",
       "      <td>0.5</td>\n",
       "      <td>5</td>\n",
       "      <td>3.345647</td>\n",
       "      <td>0.008075</td>\n",
       "    </tr>\n",
       "    <tr>\n",
       "      <th>1</th>\n",
       "      <td>normal_preprocess</td>\n",
       "      <td>1.0</td>\n",
       "      <td>5</td>\n",
       "      <td>2.354583</td>\n",
       "      <td>0.008338</td>\n",
       "    </tr>\n",
       "    <tr>\n",
       "      <th>2</th>\n",
       "      <td>normal_preprocess</td>\n",
       "      <td>2.0</td>\n",
       "      <td>5</td>\n",
       "      <td>1.893877</td>\n",
       "      <td>0.004733</td>\n",
       "    </tr>\n",
       "    <tr>\n",
       "      <th>3</th>\n",
       "      <td>normal_preprocess</td>\n",
       "      <td>30.0</td>\n",
       "      <td>5</td>\n",
       "      <td>1.462916</td>\n",
       "      <td>0.003997</td>\n",
       "    </tr>\n",
       "    <tr>\n",
       "      <th>4</th>\n",
       "      <td>normal_preprocess</td>\n",
       "      <td>0.5</td>\n",
       "      <td>50</td>\n",
       "      <td>3.695235</td>\n",
       "      <td>0.004816</td>\n",
       "    </tr>\n",
       "    <tr>\n",
       "      <th>5</th>\n",
       "      <td>normal_preprocess</td>\n",
       "      <td>1.0</td>\n",
       "      <td>50</td>\n",
       "      <td>2.568447</td>\n",
       "      <td>0.002168</td>\n",
       "    </tr>\n",
       "    <tr>\n",
       "      <th>6</th>\n",
       "      <td>normal_preprocess</td>\n",
       "      <td>2.0</td>\n",
       "      <td>50</td>\n",
       "      <td>1.991834</td>\n",
       "      <td>0.004747</td>\n",
       "    </tr>\n",
       "    <tr>\n",
       "      <th>7</th>\n",
       "      <td>normal_preprocess</td>\n",
       "      <td>30.0</td>\n",
       "      <td>50</td>\n",
       "      <td>1.486578</td>\n",
       "      <td>0.004424</td>\n",
       "    </tr>\n",
       "  </tbody>\n",
       "</table>\n",
       "</div>"
      ],
      "text/plain": [
       "               model    df  dim  tst_negll       sem\n",
       "0  normal_preprocess   0.5    5   3.345647  0.008075\n",
       "1  normal_preprocess   1.0    5   2.354583  0.008338\n",
       "2  normal_preprocess   2.0    5   1.893877  0.004733\n",
       "3  normal_preprocess  30.0    5   1.462916  0.003997\n",
       "4  normal_preprocess   0.5   50   3.695235  0.004816\n",
       "5  normal_preprocess   1.0   50   2.568447  0.002168\n",
       "6  normal_preprocess   2.0   50   1.991834  0.004747\n",
       "7  normal_preprocess  30.0   50   1.486578  0.004424"
      ]
     },
     "execution_count": 29,
     "metadata": {},
     "output_type": "execute_result"
    }
   ],
   "source": [
    "agg = results.groupby(['dim', 'df', 'model'], group_keys=False).agg(['mean', 'sem'])\n",
    "\n",
    "unpacked_rows = []\n",
    "for (dim, df, model), test_neg_ll_agg in agg.iterrows():\n",
    "    unpacked_rows.append(\n",
    "        {\n",
    "            'model': model,\n",
    "            'df': df,\n",
    "            'dim': dim,\n",
    "            'tst_negll': test_neg_ll_agg.values[0],\n",
    "            'sem': test_neg_ll_agg.values[1],\n",
    "        }\n",
    "    )\n",
    "\n",
    "rezzas = pd.DataFrame(unpacked_rows)\n",
    "rezzas"
   ]
  },
  {
   "cell_type": "code",
   "execution_count": 57,
   "metadata": {},
   "outputs": [
    {
     "data": {
      "text/html": [
       "<div>\n",
       "<style scoped>\n",
       "    .dataframe tbody tr th:only-of-type {\n",
       "        vertical-align: middle;\n",
       "    }\n",
       "\n",
       "    .dataframe tbody tr th {\n",
       "        vertical-align: top;\n",
       "    }\n",
       "\n",
       "    .dataframe thead th {\n",
       "        text-align: right;\n",
       "    }\n",
       "</style>\n",
       "<table border=\"1\" class=\"dataframe\">\n",
       "  <thead>\n",
       "    <tr style=\"text-align: right;\">\n",
       "      <th>df</th>\n",
       "      <th>0.5</th>\n",
       "      <th>1.0</th>\n",
       "      <th>2.0</th>\n",
       "      <th>30.0</th>\n",
       "    </tr>\n",
       "    <tr>\n",
       "      <th>model</th>\n",
       "      <th></th>\n",
       "      <th></th>\n",
       "      <th></th>\n",
       "      <th></th>\n",
       "    </tr>\n",
       "  </thead>\n",
       "  <tbody>\n",
       "    <tr>\n",
       "      <th>TTF_m_fixed</th>\n",
       "      <td>3.49 (0.01)</td>\n",
       "      <td>2.46 (0.01)</td>\n",
       "      <td>2.00 (0.01)</td>\n",
       "      <td>1.56 (0.00)</td>\n",
       "    </tr>\n",
       "    <tr>\n",
       "      <th>TTF_m_stable</th>\n",
       "      <td>3.51 (0.01)</td>\n",
       "      <td>2.47 (0.01)</td>\n",
       "      <td>2.00 (0.01)</td>\n",
       "      <td>1.58 (0.01)</td>\n",
       "    </tr>\n",
       "    <tr>\n",
       "      <th>comet</th>\n",
       "      <td>3.30 (0.02)</td>\n",
       "      <td>2.33 (0.01)</td>\n",
       "      <td>1.87 (0.00)</td>\n",
       "      <td>1.46 (0.00)</td>\n",
       "    </tr>\n",
       "    <tr>\n",
       "      <th>gTAF</th>\n",
       "      <td>5.32 (0.13)</td>\n",
       "      <td>2.64 (0.02)</td>\n",
       "      <td>2.07 (0.01)</td>\n",
       "      <td>1.57 (0.00)</td>\n",
       "    </tr>\n",
       "    <tr>\n",
       "      <th>g_normal</th>\n",
       "      <td>null</td>\n",
       "      <td>NaN</td>\n",
       "      <td>NaN</td>\n",
       "      <td>NaN</td>\n",
       "    </tr>\n",
       "    <tr>\n",
       "      <th>mTAF</th>\n",
       "      <td>4.01 (0.03)</td>\n",
       "      <td>2.60 (0.01)</td>\n",
       "      <td>2.05 (0.01)</td>\n",
       "      <td>1.55 (0.01)</td>\n",
       "    </tr>\n",
       "  </tbody>\n",
       "</table>\n",
       "</div>"
      ],
      "text/plain": [
       "df                   0.5          1.0          2.0          30.0\n",
       "model                                                           \n",
       "TTF_m_fixed   3.49 (0.01)  2.46 (0.01)  2.00 (0.01)  1.56 (0.00)\n",
       "TTF_m_stable  3.51 (0.01)  2.47 (0.01)  2.00 (0.01)  1.58 (0.01)\n",
       "comet         3.30 (0.02)  2.33 (0.01)  1.87 (0.00)  1.46 (0.00)\n",
       "gTAF          5.32 (0.13)  2.64 (0.02)  2.07 (0.01)  1.57 (0.00)\n",
       "g_normal             null          NaN          NaN          NaN\n",
       "mTAF          4.01 (0.03)  2.60 (0.01)  2.05 (0.01)  1.55 (0.01)"
      ]
     },
     "execution_count": 57,
     "metadata": {},
     "output_type": "execute_result"
    }
   ],
   "source": [
    "def readable(row):\n",
    "    if row[\"tst_negll\"] > 10000 or np.isnan(row[\"tst_negll\"]):\n",
    "        return 'null'\n",
    "    else:\n",
    "        return  f'{row[\"tst_negll\"]:.2f} ({row[\"sem\"]:.2f})'\n",
    "    \n",
    "def interval(row):\n",
    "    if row[\"tst_negll\"] > 10000 or np.isnan(row[\"tst_negll\"]):\n",
    "        return 'null'\n",
    "    else:\n",
    "        return  f'[{row[\"tst_negll\"] - row[\"sem\"]:.4f}, {row[\"tst_negll\"] + row[\"sem\"]:.4f}]'\n",
    "    \n",
    "rezzas['readable'] = rezzas.apply(readable, axis=1)\n",
    "rezzas['interval'] = rezzas.apply(interval, axis=1)\n",
    "\n",
    "selector = np.logical_and(\n",
    "    rezzas['dim'] == 5,\n",
    "    np.isin(\n",
    "        rezzas['df'], [0.5, 1., 2., 30.]\n",
    "    ),\n",
    "    # np.isin(\n",
    "    #     rezzas['model'],\n",
    "    #     ['TTF_m_affine_stable', 'TTF_m_stable']\n",
    "    # )\n",
    ")\n",
    "\n",
    "res_tab = rezzas[selector].pivot(index='model', columns='df')['readable']\n",
    "res_tab"
   ]
  },
  {
   "cell_type": "code",
   "execution_count": 58,
   "metadata": {},
   "outputs": [
    {
     "name": "stdout",
     "output_type": "stream",
     "text": [
      "& COMET & 3.30 (0.02) & 2.33 (0.01) & 1.87 (0.00) & 1.46 (0.00)  \\\\\n"
     ]
    }
   ],
   "source": [
    "order = {\n",
    "    # 'normal': 'normal',\n",
    "    # 'm_normal': 'm\\_normal',\n",
    "    # 'g_normal': 'g\\_normal',\n",
    "    # 'gTAF': 'gTAF',\n",
    "    # 'TTF_m_affine_stable': 'TTF',\n",
    "    # 'mTAF': 'mTAF',\n",
    "    # 'TTF_m_affine_fixed': 'TTF (fix)',\n",
    "    'comet': 'COMET'\n",
    "}\n",
    "\n",
    "for m_name, l_name in order.items():\n",
    "    parsed_vals= [\n",
    "        val if isinstance(val, str) else 'null'\n",
    "        for val in res_tab.loc[m_name]\n",
    "    ]\n",
    "    print(f'& {l_name} &', ' & '.join(parsed_vals), ' \\\\\\\\')"
   ]
  },
  {
   "cell_type": "code",
   "execution_count": 16,
   "metadata": {},
   "outputs": [
    {
     "ename": "KeyError",
     "evalue": "'normal'",
     "output_type": "error",
     "traceback": [
      "\u001b[0;31m---------------------------------------------------------------------------\u001b[0m",
      "\u001b[0;31mKeyError\u001b[0m                                  Traceback (most recent call last)",
      "File \u001b[0;32m~/miniconda3/envs/tailnflows/lib/python3.9/site-packages/pandas/core/indexes/base.py:3802\u001b[0m, in \u001b[0;36mIndex.get_loc\u001b[0;34m(self, key, method, tolerance)\u001b[0m\n\u001b[1;32m   3801\u001b[0m \u001b[38;5;28;01mtry\u001b[39;00m:\n\u001b[0;32m-> 3802\u001b[0m     \u001b[38;5;28;01mreturn\u001b[39;00m \u001b[38;5;28;43mself\u001b[39;49m\u001b[38;5;241;43m.\u001b[39;49m\u001b[43m_engine\u001b[49m\u001b[38;5;241;43m.\u001b[39;49m\u001b[43mget_loc\u001b[49m\u001b[43m(\u001b[49m\u001b[43mcasted_key\u001b[49m\u001b[43m)\u001b[49m\n\u001b[1;32m   3803\u001b[0m \u001b[38;5;28;01mexcept\u001b[39;00m \u001b[38;5;167;01mKeyError\u001b[39;00m \u001b[38;5;28;01mas\u001b[39;00m err:\n",
      "File \u001b[0;32m~/miniconda3/envs/tailnflows/lib/python3.9/site-packages/pandas/_libs/index.pyx:138\u001b[0m, in \u001b[0;36mpandas._libs.index.IndexEngine.get_loc\u001b[0;34m()\u001b[0m\n",
      "File \u001b[0;32m~/miniconda3/envs/tailnflows/lib/python3.9/site-packages/pandas/_libs/index.pyx:165\u001b[0m, in \u001b[0;36mpandas._libs.index.IndexEngine.get_loc\u001b[0;34m()\u001b[0m\n",
      "File \u001b[0;32mpandas/_libs/hashtable_class_helper.pxi:5745\u001b[0m, in \u001b[0;36mpandas._libs.hashtable.PyObjectHashTable.get_item\u001b[0;34m()\u001b[0m\n",
      "File \u001b[0;32mpandas/_libs/hashtable_class_helper.pxi:5753\u001b[0m, in \u001b[0;36mpandas._libs.hashtable.PyObjectHashTable.get_item\u001b[0;34m()\u001b[0m\n",
      "\u001b[0;31mKeyError\u001b[0m: 'normal'",
      "\nThe above exception was the direct cause of the following exception:\n",
      "\u001b[0;31mKeyError\u001b[0m                                  Traceback (most recent call last)",
      "Cell \u001b[0;32mIn[16], line 4\u001b[0m\n\u001b[1;32m      1\u001b[0m \u001b[38;5;28;01mfor\u001b[39;00m m_name, l_name \u001b[38;5;129;01min\u001b[39;00m order\u001b[38;5;241m.\u001b[39mitems():\n\u001b[1;32m      2\u001b[0m     parsed_vals\u001b[38;5;241m=\u001b[39m [\n\u001b[1;32m      3\u001b[0m         val \u001b[38;5;28;01mif\u001b[39;00m \u001b[38;5;28misinstance\u001b[39m(val, \u001b[38;5;28mstr\u001b[39m) \u001b[38;5;28;01melse\u001b[39;00m \u001b[38;5;124m'\u001b[39m\u001b[38;5;124mnull\u001b[39m\u001b[38;5;124m'\u001b[39m\n\u001b[0;32m----> 4\u001b[0m         \u001b[38;5;28;01mfor\u001b[39;00m val \u001b[38;5;129;01min\u001b[39;00m \u001b[43mres_tab\u001b[49m\u001b[38;5;241;43m.\u001b[39;49m\u001b[43mloc\u001b[49m\u001b[43m[\u001b[49m\u001b[43mm_name\u001b[49m\u001b[43m]\u001b[49m\n\u001b[1;32m      5\u001b[0m     ]\n\u001b[1;32m      6\u001b[0m     \u001b[38;5;28mprint\u001b[39m(\u001b[38;5;124mf\u001b[39m\u001b[38;5;124m'\u001b[39m\u001b[38;5;124m& \u001b[39m\u001b[38;5;132;01m{\u001b[39;00ml_name\u001b[38;5;132;01m}\u001b[39;00m\u001b[38;5;124m &\u001b[39m\u001b[38;5;124m'\u001b[39m, \u001b[38;5;124m'\u001b[39m\u001b[38;5;124m & \u001b[39m\u001b[38;5;124m'\u001b[39m\u001b[38;5;241m.\u001b[39mjoin(parsed_vals), \u001b[38;5;124m'\u001b[39m\u001b[38;5;124m \u001b[39m\u001b[38;5;130;01m\\\\\u001b[39;00m\u001b[38;5;130;01m\\\\\u001b[39;00m\u001b[38;5;124m'\u001b[39m)\n",
      "File \u001b[0;32m~/miniconda3/envs/tailnflows/lib/python3.9/site-packages/pandas/core/indexing.py:1073\u001b[0m, in \u001b[0;36m_LocationIndexer.__getitem__\u001b[0;34m(self, key)\u001b[0m\n\u001b[1;32m   1070\u001b[0m axis \u001b[38;5;241m=\u001b[39m \u001b[38;5;28mself\u001b[39m\u001b[38;5;241m.\u001b[39maxis \u001b[38;5;129;01mor\u001b[39;00m \u001b[38;5;241m0\u001b[39m\n\u001b[1;32m   1072\u001b[0m maybe_callable \u001b[38;5;241m=\u001b[39m com\u001b[38;5;241m.\u001b[39mapply_if_callable(key, \u001b[38;5;28mself\u001b[39m\u001b[38;5;241m.\u001b[39mobj)\n\u001b[0;32m-> 1073\u001b[0m \u001b[38;5;28;01mreturn\u001b[39;00m \u001b[38;5;28;43mself\u001b[39;49m\u001b[38;5;241;43m.\u001b[39;49m\u001b[43m_getitem_axis\u001b[49m\u001b[43m(\u001b[49m\u001b[43mmaybe_callable\u001b[49m\u001b[43m,\u001b[49m\u001b[43m \u001b[49m\u001b[43maxis\u001b[49m\u001b[38;5;241;43m=\u001b[39;49m\u001b[43maxis\u001b[49m\u001b[43m)\u001b[49m\n",
      "File \u001b[0;32m~/miniconda3/envs/tailnflows/lib/python3.9/site-packages/pandas/core/indexing.py:1312\u001b[0m, in \u001b[0;36m_LocIndexer._getitem_axis\u001b[0;34m(self, key, axis)\u001b[0m\n\u001b[1;32m   1310\u001b[0m \u001b[38;5;66;03m# fall thru to straight lookup\u001b[39;00m\n\u001b[1;32m   1311\u001b[0m \u001b[38;5;28mself\u001b[39m\u001b[38;5;241m.\u001b[39m_validate_key(key, axis)\n\u001b[0;32m-> 1312\u001b[0m \u001b[38;5;28;01mreturn\u001b[39;00m \u001b[38;5;28;43mself\u001b[39;49m\u001b[38;5;241;43m.\u001b[39;49m\u001b[43m_get_label\u001b[49m\u001b[43m(\u001b[49m\u001b[43mkey\u001b[49m\u001b[43m,\u001b[49m\u001b[43m \u001b[49m\u001b[43maxis\u001b[49m\u001b[38;5;241;43m=\u001b[39;49m\u001b[43maxis\u001b[49m\u001b[43m)\u001b[49m\n",
      "File \u001b[0;32m~/miniconda3/envs/tailnflows/lib/python3.9/site-packages/pandas/core/indexing.py:1260\u001b[0m, in \u001b[0;36m_LocIndexer._get_label\u001b[0;34m(self, label, axis)\u001b[0m\n\u001b[1;32m   1258\u001b[0m \u001b[38;5;28;01mdef\u001b[39;00m \u001b[38;5;21m_get_label\u001b[39m(\u001b[38;5;28mself\u001b[39m, label, axis: \u001b[38;5;28mint\u001b[39m):\n\u001b[1;32m   1259\u001b[0m     \u001b[38;5;66;03m# GH#5567 this will fail if the label is not present in the axis.\u001b[39;00m\n\u001b[0;32m-> 1260\u001b[0m     \u001b[38;5;28;01mreturn\u001b[39;00m \u001b[38;5;28;43mself\u001b[39;49m\u001b[38;5;241;43m.\u001b[39;49m\u001b[43mobj\u001b[49m\u001b[38;5;241;43m.\u001b[39;49m\u001b[43mxs\u001b[49m\u001b[43m(\u001b[49m\u001b[43mlabel\u001b[49m\u001b[43m,\u001b[49m\u001b[43m \u001b[49m\u001b[43maxis\u001b[49m\u001b[38;5;241;43m=\u001b[39;49m\u001b[43maxis\u001b[49m\u001b[43m)\u001b[49m\n",
      "File \u001b[0;32m~/miniconda3/envs/tailnflows/lib/python3.9/site-packages/pandas/core/generic.py:4056\u001b[0m, in \u001b[0;36mNDFrame.xs\u001b[0;34m(self, key, axis, level, drop_level)\u001b[0m\n\u001b[1;32m   4054\u001b[0m             new_index \u001b[38;5;241m=\u001b[39m index[loc]\n\u001b[1;32m   4055\u001b[0m \u001b[38;5;28;01melse\u001b[39;00m:\n\u001b[0;32m-> 4056\u001b[0m     loc \u001b[38;5;241m=\u001b[39m \u001b[43mindex\u001b[49m\u001b[38;5;241;43m.\u001b[39;49m\u001b[43mget_loc\u001b[49m\u001b[43m(\u001b[49m\u001b[43mkey\u001b[49m\u001b[43m)\u001b[49m\n\u001b[1;32m   4058\u001b[0m     \u001b[38;5;28;01mif\u001b[39;00m \u001b[38;5;28misinstance\u001b[39m(loc, np\u001b[38;5;241m.\u001b[39mndarray):\n\u001b[1;32m   4059\u001b[0m         \u001b[38;5;28;01mif\u001b[39;00m loc\u001b[38;5;241m.\u001b[39mdtype \u001b[38;5;241m==\u001b[39m np\u001b[38;5;241m.\u001b[39mbool_:\n",
      "File \u001b[0;32m~/miniconda3/envs/tailnflows/lib/python3.9/site-packages/pandas/core/indexes/base.py:3804\u001b[0m, in \u001b[0;36mIndex.get_loc\u001b[0;34m(self, key, method, tolerance)\u001b[0m\n\u001b[1;32m   3802\u001b[0m     \u001b[38;5;28;01mreturn\u001b[39;00m \u001b[38;5;28mself\u001b[39m\u001b[38;5;241m.\u001b[39m_engine\u001b[38;5;241m.\u001b[39mget_loc(casted_key)\n\u001b[1;32m   3803\u001b[0m \u001b[38;5;28;01mexcept\u001b[39;00m \u001b[38;5;167;01mKeyError\u001b[39;00m \u001b[38;5;28;01mas\u001b[39;00m err:\n\u001b[0;32m-> 3804\u001b[0m     \u001b[38;5;28;01mraise\u001b[39;00m \u001b[38;5;167;01mKeyError\u001b[39;00m(key) \u001b[38;5;28;01mfrom\u001b[39;00m \u001b[38;5;21;01merr\u001b[39;00m\n\u001b[1;32m   3805\u001b[0m \u001b[38;5;28;01mexcept\u001b[39;00m \u001b[38;5;167;01mTypeError\u001b[39;00m:\n\u001b[1;32m   3806\u001b[0m     \u001b[38;5;66;03m# If we have a listlike key, _check_indexing_error will raise\u001b[39;00m\n\u001b[1;32m   3807\u001b[0m     \u001b[38;5;66;03m#  InvalidIndexError. Otherwise we fall through and re-raise\u001b[39;00m\n\u001b[1;32m   3808\u001b[0m     \u001b[38;5;66;03m#  the TypeError.\u001b[39;00m\n\u001b[1;32m   3809\u001b[0m     \u001b[38;5;28mself\u001b[39m\u001b[38;5;241m.\u001b[39m_check_indexing_error(key)\n",
      "\u001b[0;31mKeyError\u001b[0m: 'normal'"
     ]
    }
   ],
   "source": [
    "\n",
    "for m_name, l_name in order.items():\n",
    "    parsed_vals= [\n",
    "        val if isinstance(val, str) else 'null'\n",
    "        for val in res_tab.loc[m_name]\n",
    "    ]\n",
    "    print(f'& {l_name} &', ' & '.join(parsed_vals), ' \\\\\\\\')"
   ]
  },
  {
   "cell_type": "code",
   "execution_count": null,
   "metadata": {},
   "outputs": [],
   "source": []
  }
 ],
 "metadata": {
  "kernelspec": {
   "display_name": "tailnflows",
   "language": "python",
   "name": "python3"
  },
  "language_info": {
   "codemirror_mode": {
    "name": "ipython",
    "version": 3
   },
   "file_extension": ".py",
   "mimetype": "text/x-python",
   "name": "python",
   "nbconvert_exporter": "python",
   "pygments_lexer": "ipython3",
   "version": "3.9.20"
  }
 },
 "nbformat": 4,
 "nbformat_minor": 2
}
