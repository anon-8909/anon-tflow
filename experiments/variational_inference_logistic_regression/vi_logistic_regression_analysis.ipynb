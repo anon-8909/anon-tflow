{
 "cells": [
  {
   "cell_type": "code",
   "execution_count": 1,
   "metadata": {},
   "outputs": [],
   "source": [
    "import torch\n",
    "import pandas as pd\n",
    "import matplotlib.pyplot as plt\n",
    "from tailnflows.utils import load_raw_data, get_project_root"
   ]
  },
  {
   "cell_type": "code",
   "execution_count": 2,
   "metadata": {},
   "outputs": [],
   "source": [
    "RESULT_PATH = '2024-10-vi-real-longer2'\n",
    "raw_data = load_raw_data(RESULT_PATH)"
   ]
  },
  {
   "cell_type": "code",
   "execution_count": 19,
   "metadata": {},
   "outputs": [
    {
     "data": {
      "text/plain": [
       "{'seed': 100,\n",
       " 'tst_idx': array([111, 100,  75,  26,  10,  99,  28,  43,  68,  78, 115, 101, 103,\n",
       "         25,  38,  11,  39, 104,  59,  49]),\n",
       " 'test_is_predictive': array(-13.185419, dtype=float32),\n",
       " 'tst_elbos': (-87.4432144165039, -87.22764587402344, -87.0210189819336),\n",
       " 'tst_ess': (-0.01936662197113037, 0.025218553841114044, 0.03659791871905327),\n",
       " 'tst_psis_k': (0.5974438459642472,),\n",
       " 'tst_cubo': (0.5974438459642472,),\n",
       " 'tst_auc': 0.7171717171717171}"
      ]
     },
     "execution_count": 19,
     "metadata": {},
     "output_type": "execute_result"
    }
   ],
   "source": [
    "experiment_outcome"
   ]
  },
  {
   "cell_type": "code",
   "execution_count": 20,
   "metadata": {},
   "outputs": [],
   "source": [
    "rows = []\n",
    "for label, _data in raw_data.items():\n",
    "    # if label != 'comet':\n",
    "    for experiment_outcome in _data:\n",
    "        rows.append({\n",
    "            'model': label,\n",
    "            'test_is_predictive': experiment_outcome['test_is_predictive'],\n",
    "            'min_ess': float(min(experiment_outcome['tst_ess'])),\n",
    "            'max_ess': float(max(experiment_outcome['tst_ess'])),\n",
    "            'ess': float(experiment_outcome['tst_ess'][1]),\n",
    "            'psis_k': float(experiment_outcome['tst_psis_k'][0]),\n",
    "            'tst_elbos': float(max(experiment_outcome['tst_elbos'])),\n",
    "            'tst_cubo': float(max(experiment_outcome['tst_cubo'])),\n",
    "            'auc': experiment_outcome['tst_auc']\n",
    "        })\n",
    "\n",
    "results = pd.DataFrame(rows)\n"
   ]
  },
  {
   "cell_type": "code",
   "execution_count": 21,
   "metadata": {},
   "outputs": [
    {
     "data": {
      "text/html": [
       "<div>\n",
       "<style scoped>\n",
       "    .dataframe tbody tr th:only-of-type {\n",
       "        vertical-align: middle;\n",
       "    }\n",
       "\n",
       "    .dataframe tbody tr th {\n",
       "        vertical-align: top;\n",
       "    }\n",
       "\n",
       "    .dataframe thead tr th {\n",
       "        text-align: left;\n",
       "    }\n",
       "\n",
       "    .dataframe thead tr:last-of-type th {\n",
       "        text-align: right;\n",
       "    }\n",
       "</style>\n",
       "<table border=\"1\" class=\"dataframe\">\n",
       "  <thead>\n",
       "    <tr>\n",
       "      <th></th>\n",
       "      <th colspan=\"2\" halign=\"left\">test_is_predictive</th>\n",
       "      <th colspan=\"2\" halign=\"left\">min_ess</th>\n",
       "      <th colspan=\"2\" halign=\"left\">max_ess</th>\n",
       "      <th colspan=\"2\" halign=\"left\">ess</th>\n",
       "      <th colspan=\"2\" halign=\"left\">psis_k</th>\n",
       "      <th colspan=\"2\" halign=\"left\">tst_elbos</th>\n",
       "      <th colspan=\"2\" halign=\"left\">tst_cubo</th>\n",
       "      <th colspan=\"2\" halign=\"left\">auc</th>\n",
       "    </tr>\n",
       "    <tr>\n",
       "      <th></th>\n",
       "      <th>mean</th>\n",
       "      <th>sem</th>\n",
       "      <th>mean</th>\n",
       "      <th>sem</th>\n",
       "      <th>mean</th>\n",
       "      <th>sem</th>\n",
       "      <th>mean</th>\n",
       "      <th>sem</th>\n",
       "      <th>mean</th>\n",
       "      <th>sem</th>\n",
       "      <th>mean</th>\n",
       "      <th>sem</th>\n",
       "      <th>mean</th>\n",
       "      <th>sem</th>\n",
       "      <th>mean</th>\n",
       "      <th>sem</th>\n",
       "    </tr>\n",
       "    <tr>\n",
       "      <th>model</th>\n",
       "      <th></th>\n",
       "      <th></th>\n",
       "      <th></th>\n",
       "      <th></th>\n",
       "      <th></th>\n",
       "      <th></th>\n",
       "      <th></th>\n",
       "      <th></th>\n",
       "      <th></th>\n",
       "      <th></th>\n",
       "      <th></th>\n",
       "      <th></th>\n",
       "      <th></th>\n",
       "      <th></th>\n",
       "      <th></th>\n",
       "      <th></th>\n",
       "    </tr>\n",
       "  </thead>\n",
       "  <tbody>\n",
       "    <tr>\n",
       "      <th>gtaf</th>\n",
       "      <td>-14.270438</td>\n",
       "      <td>4.317300</td>\n",
       "      <td>-0.017008</td>\n",
       "      <td>0.021071</td>\n",
       "      <td>0.040417</td>\n",
       "      <td>0.023173</td>\n",
       "      <td>0.031280</td>\n",
       "      <td>0.018667</td>\n",
       "      <td>0.748584</td>\n",
       "      <td>0.072826</td>\n",
       "      <td>-88.124069</td>\n",
       "      <td>2.975630</td>\n",
       "      <td>0.748584</td>\n",
       "      <td>0.072826</td>\n",
       "      <td>0.779131</td>\n",
       "      <td>0.074804</td>\n",
       "    </tr>\n",
       "    <tr>\n",
       "      <th>normal</th>\n",
       "      <td>-14.428588</td>\n",
       "      <td>4.357955</td>\n",
       "      <td>-0.001430</td>\n",
       "      <td>0.014080</td>\n",
       "      <td>0.036234</td>\n",
       "      <td>0.014928</td>\n",
       "      <td>0.028533</td>\n",
       "      <td>0.012266</td>\n",
       "      <td>0.774843</td>\n",
       "      <td>0.042786</td>\n",
       "      <td>-87.699074</td>\n",
       "      <td>2.668360</td>\n",
       "      <td>0.774843</td>\n",
       "      <td>0.042786</td>\n",
       "      <td>0.774860</td>\n",
       "      <td>0.076902</td>\n",
       "    </tr>\n",
       "    <tr>\n",
       "      <th>ttf_m</th>\n",
       "      <td>-14.126015</td>\n",
       "      <td>4.172306</td>\n",
       "      <td>0.022879</td>\n",
       "      <td>0.027582</td>\n",
       "      <td>0.114212</td>\n",
       "      <td>0.045168</td>\n",
       "      <td>0.086778</td>\n",
       "      <td>0.034315</td>\n",
       "      <td>0.629834</td>\n",
       "      <td>0.096079</td>\n",
       "      <td>-85.291921</td>\n",
       "      <td>2.521997</td>\n",
       "      <td>0.629834</td>\n",
       "      <td>0.096079</td>\n",
       "      <td>0.782515</td>\n",
       "      <td>0.076764</td>\n",
       "    </tr>\n",
       "  </tbody>\n",
       "</table>\n",
       "</div>"
      ],
      "text/plain": [
       "       test_is_predictive             min_ess             max_ess            \\\n",
       "                     mean       sem      mean       sem      mean       sem   \n",
       "model                                                                         \n",
       "gtaf           -14.270438  4.317300 -0.017008  0.021071  0.040417  0.023173   \n",
       "normal         -14.428588  4.357955 -0.001430  0.014080  0.036234  0.014928   \n",
       "ttf_m          -14.126015  4.172306  0.022879  0.027582  0.114212  0.045168   \n",
       "\n",
       "             ess              psis_k            tst_elbos            tst_cubo  \\\n",
       "            mean       sem      mean       sem       mean       sem      mean   \n",
       "model                                                                           \n",
       "gtaf    0.031280  0.018667  0.748584  0.072826 -88.124069  2.975630  0.748584   \n",
       "normal  0.028533  0.012266  0.774843  0.042786 -87.699074  2.668360  0.774843   \n",
       "ttf_m   0.086778  0.034315  0.629834  0.096079 -85.291921  2.521997  0.629834   \n",
       "\n",
       "                       auc            \n",
       "             sem      mean       sem  \n",
       "model                                 \n",
       "gtaf    0.072826  0.779131  0.074804  \n",
       "normal  0.042786  0.774860  0.076902  \n",
       "ttf_m   0.096079  0.782515  0.076764  "
      ]
     },
     "execution_count": 21,
     "metadata": {},
     "output_type": "execute_result"
    }
   ],
   "source": [
    "results.groupby('model').agg(['mean', 'sem'])"
   ]
  },
  {
   "cell_type": "code",
   "execution_count": 11,
   "metadata": {},
   "outputs": [
    {
     "data": {
      "image/png": "[encoded data removed]",
      "text/plain": [
       "<Figure size 640x480 with 1 Axes>"
      ]
     },
     "metadata": {},
     "output_type": "display_data"
    }
   ],
   "source": [
    "import seaborn as sns\n",
    "\n",
    "ax = sns.boxplot(\n",
    "    data=results,\n",
    "    x='auc',\n",
    "    y='model',\n",
    "    orient='h',\n",
    ")\n",
    "# sns.boxplot(\n",
    "#     data=results,\n",
    "#     x='tst_cubo',\n",
    "#     y='model',\n",
    "#     orient='h',\n",
    "#     ax=ax\n",
    "# )"
   ]
  },
  {
   "cell_type": "code",
   "execution_count": 7,
   "metadata": {},
   "outputs": [
    {
     "data": {
      "image/png": "[encoded data removed]",
      "text/plain": [
       "<Figure size 640x480 with 1 Axes>"
      ]
     },
     "metadata": {},
     "output_type": "display_data"
    }
   ],
   "source": [
    "from tailnflows.plot_utils import smooth\n",
    "\n",
    "losses = load_raw_data(f'{RESULT_PATH}_losses')\n",
    "\n",
    "for lab in losses:\n",
    "    plt.plot(*smooth(losses[lab][0]['losses'], 100), label=lab)\n",
    "plt.legend()\n",
    "plt.ylim([50, 200])\n",
    "plt.grid()"
   ]
  }
 ],
 "metadata": {
  "kernelspec": {
   "display_name": "tailnflows",
   "language": "python",
   "name": "python3"
  },
  "language_info": {
   "codemirror_mode": {
    "name": "ipython",
    "version": 3
   },
   "file_extension": ".py",
   "mimetype": "text/x-python",
   "name": "python",
   "nbconvert_exporter": "python",
   "pygments_lexer": "ipython3",
   "version": "3.9.16"
  }
 },
 "nbformat": 4,
 "nbformat_minor": 2
}
